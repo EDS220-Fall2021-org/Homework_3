{
 "cells": [
  {
   "cell_type": "markdown",
   "id": "2646a34e-a634-47ac-9fe7-73bf40ece8ae",
   "metadata": {},
   "source": [
    "# Comparing Annual Changes in Sea Surface Temperature and Polar Sea Ice Concentrations \n",
    "\n",
    "## EDS 220, Fall 2021\n",
    "\n"
   ]
  },
  {
   "cell_type": "markdown",
   "id": "dc47afd0-adb0-4d5b-8903-992b7904322e",
   "metadata": {},
   "source": [
    "## Authors\n",
    "\n",
    "- **Peter Menzies**, UC Santa Barbara (petermenzies@bren.ucsb.edu) <br>\n",
    "https://petermenzies.github.io/\n",
    "\n",
    "\n",
    "- **Julie Cohen**, UC Santa Barbara (jscohen@bren.ucsb.edu) <br>\n",
    "https://julietcohen.github.io/\n",
    "\n",
    "\n",
    "- **Ryan Munnikhuis**, UC Santa Barbara (Rmunnikhuis@ucsb.edu) <br>\n",
    "https://ryanmunnikhuis.github.io/\n"
   ]
  },
  {
   "cell_type": "markdown",
   "id": "1e8c2013-fef1-44ac-bb00-3215807cacac",
   "metadata": {},
   "source": [
    "## Table of Contents\n",
    "\n",
    "[1. Purpose](#purpose)\n",
    "\n",
    "[2. Use Case Examples](#usecases)\n",
    "\n",
    "[3. Datasets](#overview)\n",
    "\n",
    "[4. Data I/O](#io)\n",
    "\n",
    "[5. References](#references)"
   ]
  },
  {
   "cell_type": "markdown",
   "id": "ba52c6e3-3584-48be-b500-21578b61bd72",
   "metadata": {},
   "source": [
    "<a id='purpose'></a> \n",
    "### Purpose\n",
    "\n",
    "While static maps are useful for oberserving conditons at a single point in time (or an average of a time span), it can sometimes be helpful to visualize changes in geospatial data from year to year. This notebook is intended to provide you with multiple examples of how to animate a timeseries. This lab will also show you one method to plot two seperate datasets on the same graph to compare data.  \n",
    "\n",
    "For this exercise, we'll be subsetting and visualsing sea surface temperatures (SST) from the NOAA Optimum Interpolation 1/4 Degree Daily Sea Surface Temperature (OISST) Analysis, Version 2) and sea ice concentrations (SIC) data from the Monthly Mean Hadley Centre Sea Ice and SST dataset version 1 (HadISST1) data set. \n",
    "\n",
    "At the end of the lab, we will ideally have: \n",
    "\n",
    "- A gif showing changes of sea surface temperatures over a 40-year timeframe; \n",
    "\n",
    "\n",
    "- A gif showing of changes of sea ice concentrations over a 40-year timeframe; and\n",
    "\n",
    "\n",
    "- A graph showing the trend in sea surface temperatures and sea ice concentrations over time."
   ]
  },
  {
   "cell_type": "markdown",
   "id": "9eaaedf5",
   "metadata": {},
   "source": [
    "<a id='usecases'></a> \n",
    "### Use Case Examples \n",
    "\n",
    "Gifs are an effective tool in conveying a high density of information in a short amount of time. In the context of geospatial data, animated maps are often more effective at visualizing rates of change of information compared to static maps. For example, a gif showing the movement of a hurricane towards the Eastern Seabord would likely instill a greater sense of urgency in the public to be better prepared when the storm hits landfall than a static image of a tropical cyclone. In addition, gifs often require little to no preamble to understand what is being visualized. This ease of understanding increases inclusivity and can minimize room for misinterpretation. Lastly, geospatial gifs can also be used to help predict trends in spatial data. Having a way to quickly and effectively generate an animated spatial map can help contextualize data and give researchers a sense of what future data should look like."
   ]
  },
  {
   "cell_type": "markdown",
   "id": "d429260a-2c30-44da-a5af-e100a440056a",
   "metadata": {},
   "source": [
    "<a id='overview'></a> \n",
    "### Datasets\n",
    "\n",
    "In this lab, we'll be using data from two sources. \n",
    "- SST: NOAA's 1/4° Daily Optimum Interpolation Sea Surface Temperature (OISST) version 2, or OISSTv2\n",
    "- SIC: Monthly Mean Hadley Centre Sea Ice and SST dataset version 1 (HadISST1)\n",
    "\n",
    "Data Google Drive: https://drive.google.com/drive/folders/1bdVrH6EB0JAjreb0xAbcb6Nps5oyW2eW?usp=sharing\n",
    "\n",
    "A description of each dataset is given below: \n",
    "\n",
    "### Sea Surface Temperature Data \n",
    "\n",
    "The NOAA 1/4° daily Optimum Interpolation Sea Surface Temperature (daily OISST) Climate Data Record (CDR) provides complete ocean temperature fields constructed by combining bias-adjusted observations from different platforms (satellites, ships, buoys) on a regular global grid, with gaps filled in by interpolation. The main input source is satellite data from the Advanced Very High-Resolution Radiometer (AVHRR), which provides high temporal-spatial coverage from late 1981 to–present. \n",
    "This dataset is stored as NetCDF files (.nc files) that include latitude and longitude coordinates, temperatures, and dates.\n",
    "\n",
    "Data source and metadata: NOAA National Centers for Environemntal Information https://www.ncei.noaa.gov/metadata/geoportal/rest/metadata/item/gov.noaa.ncdc:C00844/html\n",
    "\n",
    "NOAA Sea Surface Temperature Optimum Interpolation methods: https://www.ncei.noaa.gov/products/climate-data-records/sea-surface-temperature-optimum-interpolation\n",
    "\n",
    "\n",
    "### Sea Ice Concentration \n",
    "\n",
    "The Monthly Mean Hadley Centre Sea Ice and SST dataset version 1 (HadISST1) is one half of the merged Hadley-OI sea surface temperature (SST) and sea ice concentration (SIC) dataset. The merged product provides monthly global mean sea surface temperature and sea ice concentration data from 1870 to the present. The merging procedure was designed to take full advantage of the higher-resolution SST information found in version 2 of the NOAA weekly optimum interpolation (OI) SST analysis, the other half of the merged dataset. The combined dataset blends historical SST and modern SST observations from ships, buoys, drifters, and sea ice observations, partly from historical ship- and air-borne and partly from satellite data.This dataset is stored as NetCDF files (.nc files) that include latitude and longitude coordinates, temperatures, and dates.\n",
    "\n",
    "Data source and metadata: UCAR/NCAR - DASH Repository\n",
    "https://dashrepo.ucar.edu/dataset/158_asphilli.html\n",
    "\n",
    "Journal of Climate article explaining why the datsets were merged: https://journals.ametsoc.org/view/journals/clim/21/19/2008jcli2292.1.xml"
   ]
  },
  {
   "cell_type": "markdown",
   "id": "7deafaa9",
   "metadata": {},
   "source": [
    "## Dataset Input/Output"
   ]
  },
  {
   "cell_type": "markdown",
   "id": "ae802a40",
   "metadata": {},
   "source": [
    "### Configure Environment\n",
    "\n",
    "We will be using xarray, rasterio, pandas, matplotlib, rioxarray, imaegio, and glob Python packages."
   ]
  },
  {
   "cell_type": "code",
   "execution_count": null,
   "id": "24baba61",
   "metadata": {},
   "outputs": [],
   "source": [
    "#Configure Python Environment\n",
    "import xarray as xr\n",
    "import rasterio as rio\n",
    "import pandas as pd \n",
    "from rasterio.plot import show\n",
    "import matplotlib.pyplot as plt\n",
    "import rioxarray\n",
    "import imageio\n",
    "import glob"
   ]
  },
  {
   "cell_type": "markdown",
   "id": "4d80caa0",
   "metadata": {},
   "source": [
    "### Dataset Parameters \n",
    "\n",
    "We have preloaded subsetted data into binder to avoid memory conflicts as well as to minimize the time needed downloading data. We'll look at a 40-year timeframe for both sea surface temperatures and sea ice concentrations. Since we've already (briefly) gone over how to visualize SST in our last presentation, we'll just show you the code used for creating this gif and go through in detail how to create an animated ice cap time series and visualize two datasets on one chart."
   ]
  },
  {
   "cell_type": "markdown",
   "id": "f30c58af",
   "metadata": {},
   "source": [
    "## Part One: Sea Surface Temperature "
   ]
  },
  {
   "cell_type": "code",
   "execution_count": null,
   "id": "bd71dee3",
   "metadata": {},
   "outputs": [],
   "source": [
    "# Example commands to open a single NetCDF file and view the metadata\n",
    "\n",
    "# use xarray to load in the datafile\n",
    "data_example = xr.open_dataset('Data/avhrr-only-v2.19810901.nc')\n",
    "# use head() to view the metadata associated with this file\n",
    "data_example.head()"
   ]
  },
  {
   "cell_type": "code",
   "execution_count": null,
   "id": "4cc4f0bc",
   "metadata": {},
   "outputs": [],
   "source": [
    "# List of years that data were collected to read in .nc files and to title maps later on\n",
    "years = range(1981, 2022)\n",
    "\n",
    "# Empty list to populate with tif file names\n",
    "images = []"
   ]
  },
  {
   "cell_type": "code",
   "execution_count": null,
   "id": "50dee021",
   "metadata": {},
   "outputs": [],
   "source": [
    "# Loop to read in datasets and and export as rasterized tiffs\n",
    "for i in years:\n",
    "    \n",
    "    dataset = 'Data/oisst-avhrr-v02r01.' + str(i) + '1017.nc'\n",
    "    \n",
    "    nc = xr.open_dataset(dataset)\n",
    "    \n",
    "    nc_projected = nc.rio.write_crs(4326, inplace=True)\n",
    "    \n",
    "    sst = nc_projected[\"sst\"].rio.set_spatial_dims('lon', 'lat')\n",
    "    \n",
    "    sst = sst.rename({'lat':'latitude', 'lon':'longitude'})\n",
    "    \n",
    "    sst['time'] = pd.to_datetime(sst['time'], format='%Y%m%d')\n",
    "    \n",
    "    sst = sst.squeeze()\n",
    "    \n",
    "    filename = 'Data/noaa_sst_' + str(i) + '.tif'\n",
    "    \n",
    "    sst.rio.to_raster(filename)\n",
    "    \n",
    "    images.append(filename)"
   ]
  },
  {
   "cell_type": "code",
   "execution_count": null,
   "id": "b234ffb8",
   "metadata": {},
   "outputs": [],
   "source": [
    "# Function to render the tiffs we exported\n",
    "def raster_show(raster):\n",
    "    \n",
    "    open_rast = rio.open(raster)\n",
    "    \n",
    "    plt.figure(figsize=(10,10), dpi=150)\n",
    "    \n",
    "    plt.imshow(open_rast.read(1),\n",
    "               origin='lower',\n",
    "               cmap='plasma',\n",
    "               extent=[-180, 180, -90, 90])"
   ]
  },
  {
   "cell_type": "code",
   "execution_count": null,
   "id": "0bc97718",
   "metadata": {},
   "outputs": [],
   "source": [
    "raster_show('Data/noaa_sst_1981.tif')"
   ]
  },
  {
   "cell_type": "code",
   "execution_count": null,
   "id": "6ee81444",
   "metadata": {},
   "outputs": [],
   "source": [
    "raster_show('Data/noaa_sst_2021.tif')"
   ]
  },
  {
   "cell_type": "code",
   "execution_count": null,
   "id": "fd78d343",
   "metadata": {},
   "outputs": [],
   "source": [
    "png_rasters = []"
   ]
  },
  {
   "cell_type": "code",
   "execution_count": null,
   "id": "4c399dce",
   "metadata": {},
   "outputs": [],
   "source": [
    " # Loop to export as png and create list of png file names\n",
    " for i in range(0, 41):\n",
    "    raster_show(images[i])\n",
    "    png = images[i] + '.png'\n",
    "    plt.title(years[i])\n",
    "    plt.savefig(png)\n",
    "    png_rasters.append(png)"
   ]
  },
  {
   "cell_type": "code",
   "execution_count": null,
   "id": "9d902452",
   "metadata": {},
   "outputs": [],
   "source": [
    "# Created composite gif from pngs\n",
    "png_imageio = []\n",
    "\n",
    "for filename in png_rasters:\n",
    "    png_imageio.append(imageio.imread(filename))\n",
    "imageio.mimsave('Data/sst_81_21.gif', png_imageio, **{'duration':0.4})"
   ]
  },
  {
   "cell_type": "markdown",
   "id": "02d5cb75-cb54-4708-8b88-459cae2ca17d",
   "metadata": {},
   "source": [
    "## Part Two: Sea Ice Concentrations "
   ]
  },
  {
   "cell_type": "code",
   "execution_count": null,
   "id": "cd6c557b",
   "metadata": {},
   "outputs": [],
   "source": [
    "ds_ice = xr.open_dataset(\"Data/MODEL.ICE.HAD187001-198110.OI198111-202109.nc\")"
   ]
  },
  {
   "cell_type": "code",
   "execution_count": null,
   "id": "f21e24df",
   "metadata": {},
   "outputs": [],
   "source": [
    "ice = ds_ice.rio.write_crs(4326, inplace=True)"
   ]
  },
  {
   "cell_type": "code",
   "execution_count": null,
   "id": "adf28ebd",
   "metadata": {},
   "outputs": [],
   "source": [
    "ice_time = pd.DataFrame(columns=['year', 'ice_conc'])"
   ]
  },
  {
   "cell_type": "code",
   "execution_count": null,
   "id": "9e9a13ee",
   "metadata": {},
   "outputs": [],
   "source": [
    "ice_year = []\n",
    "\n",
    "ice_conc = []"
   ]
  },
  {
   "cell_type": "code",
   "execution_count": null,
   "id": "e8c6bdad",
   "metadata": {},
   "outputs": [],
   "source": [
    "ice_time['year'] = ice_year\n",
    "ice_time['ice_conc'] = ice_conc"
   ]
  },
  {
   "cell_type": "code",
   "execution_count": null,
   "id": "df921fdd",
   "metadata": {},
   "outputs": [],
   "source": [
    "ice_time"
   ]
  },
  {
   "cell_type": "code",
   "execution_count": null,
   "id": "2207d5d1",
   "metadata": {},
   "outputs": [],
   "source": [
    "plt.figure(figsize=(10,7))\n",
    "plt.plot(ice_time['year'], ice_time['ice_conc'])\n",
    "plt.xlabel('Year')\n",
    "plt.ylabel('Ice concentration')"
   ]
  },
  {
   "cell_type": "code",
   "execution_count": null,
   "id": "a96ed84d",
   "metadata": {},
   "outputs": [],
   "source": [
    "for i in range(0, 40):\n",
    "    \n",
    "    ice_i = float(ice['SEAICE'][1341 + (12 * i)].mean())\n",
    "\n",
    "    year_i = 1981 + i\n",
    "\n",
    "    ice_year.append(year_i)\n",
    "\n",
    "    ice_conc.append(ice_i)"
   ]
  },
  {
   "cell_type": "markdown",
   "id": "d7b0d5a6",
   "metadata": {},
   "source": [
    "## Part Three: Comparing Datasets "
   ]
  },
  {
   "cell_type": "code",
   "execution_count": null,
   "id": "4b86d17d",
   "metadata": {},
   "outputs": [],
   "source": []
  },
  {
   "cell_type": "markdown",
   "id": "c62c774b-8a7c-4f47-9c07-7f9823c48473",
   "metadata": {},
   "source": [
    "<a id='references'></a> \n",
    "### References\n",
    "\n",
    "List relevant references. Here are some additional resources on creating professional, shareable notebooks you may find useful:\n",
    "\n",
    "1. NOAA. 2021a. *NOAA Optimum Interpolation 1/4 Degree Daily Sea Surface Temperature (OISST) Analysis, Version 2* https://www.ncei.noaa.gov/metadata/geoportal/rest/metadata/item/gov.noaa.ncdc:C00844/html\n",
    "2. NOAA. 2021b. *Sea Surface Temperature - Optimum Interpolation CDR* https://www.ncei.noaa.gov/products/climate-data-records/sea-surface-temperature-optimum-interpolation\n",
    "3. NCAR UCAR. 2021. *Merged Hadley-OI sea surface temperature and sea ice concentration data set* https://dashrepo.ucar.edu/dataset/158_asphilli.html\n",
    "4. Journal of Climate. 2006. *A New Sea Surface Temperature and Sea Ice Boundary Dataset for the Community Atmosphere Model* https://journals.ametsoc.org/view/journals/clim/21/19/2008jcli2292.1.xml"
   ]
  }
 ],
 "metadata": {
  "kernelspec": {
   "display_name": "Python 3 (ipykernel)",
   "language": "python",
   "name": "python3"
  },
  "language_info": {
   "codemirror_mode": {
    "name": "ipython",
    "version": 3
   },
   "file_extension": ".py",
   "mimetype": "text/x-python",
   "name": "python",
   "nbconvert_exporter": "python",
   "pygments_lexer": "ipython3",
   "version": "3.8.12"
  }
 },
 "nbformat": 4,
 "nbformat_minor": 5
}
